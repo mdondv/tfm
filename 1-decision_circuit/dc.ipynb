{
 "cells": [
  {
   "cell_type": "code",
   "execution_count": 2,
   "metadata": {},
   "outputs": [],
   "source": [
    "import numpy as np\n",
    "import matplotlib.pyplot as plt \n",
    "import time\n",
    "\n",
    "import os \n",
    "os.chdir('/Users/miguel/Documents/22-23/wimmer_lab/')\n",
    "os.environ['PATH'] = os.environ['PATH'] + ':/Library/TeX/texbin'\n",
    "\n",
    "plt.rc('text', usetex=True)\n",
    "plt.rc('text.latex', preamble=r'\\usepackage{cmbright}')"
   ]
  },
  {
   "cell_type": "code",
   "execution_count": 3,
   "metadata": {},
   "outputs": [],
   "source": [
    "save = False"
   ]
  },
  {
   "cell_type": "code",
   "execution_count": 4,
   "metadata": {},
   "outputs": [],
   "source": [
    "def sigmoid(x):\n",
    "    \"\"\"Transfer function à la Roxin, Ledberg 2008\n",
    "    \n",
    "    :param np.ndarray of float x: input current.\n",
    "    :return: firing rate response.\n",
    "    :rtype: np.ndarray of float \n",
    "    \"\"\"\n",
    "    alpha, beta = 1.5, 2.5\n",
    "    i0 = 1.0\n",
    "    return alpha / (1 + np.exp(-beta * (x - i0)))"
   ]
  },
  {
   "cell_type": "code",
   "execution_count": 5,
   "metadata": {},
   "outputs": [],
   "source": [
    "def fc(dc):\n",
    "    \"\"\"Fraction of correct trials\n",
    "    \n",
    "    :param object of class 'type' dc: an object of class DC, that is a decision circuit\n",
    "    :return: percentage of correct trials\n",
    "    :rtype: float\n",
    "    \"\"\"\n",
    "    ntrials = (dc.params.get('d1').shape[-1] + dc.params.get('d2').shape[-1]) / 2\n",
    "    if dc.params.get('I1') > dc.params.get('I2'):\n",
    "        return np.sum(dc.params.get('d1')[-1] > dc.params.get('d2')[-1], axis=-1) / ntrials\n",
    "    elif dc.params.get('I1') < dc.params.get('I2'):\n",
    "        return np.sum(dc.params.get('d2')[-1] > dc.params.get('d1')[-1], axis=-1) / ntrials\n",
    "    \n",
    "def rt(dc, th):\n",
    "    \"\"\"Reaction time for decision trials\n",
    "    \n",
    "    :param object of class 'type' dc: an object of class DC, that is a decision circuit\n",
    "    :param float th: firing rate threshold \n",
    "    :return: average reaction time for choice trials\n",
    "    :rtype: float\n",
    "    \"\"\"\n",
    "    rt = np.empty(0)\n",
    "    for idx in np.where((dc.params.get('d1')[-1, :] > th) | (dc.params.get('d2')[-1, :] > th))[0]:\n",
    "        if np.isin(idx, np.where(dc.params.get('d1')[-1, :] > th)):\n",
    "            rt = np.concatenate([rt, dc.params.get('tpoints')[np.array([np.where(dc.params.get('d1')[:, idx] > th)[0][0]])]])\n",
    "        elif np.isin(idx, np.where(dc.params.get('d2')[-1, :] > th)):\n",
    "            rt = np.concatenate([rt, dc.params.get('tpoints')[np.array([np.where(dc.params.get('d2')[:, idx] > th)[0][0]])]])\n",
    "    return np.mean(rt)"
   ]
  },
  {
   "cell_type": "code",
   "execution_count": 6,
   "metadata": {},
   "outputs": [],
   "source": [
    "class DC:\n",
    "    def __init__(self):\n",
    "        parameters = np.array(['dt',         # simulation time step (s)\n",
    "                               'tmax',       # total time of the simulation\n",
    "                               \n",
    "                               # default neuron and network parameters\n",
    "                               'dtauE',                        # time constant of rate equation for the excitatory population of neurons\n",
    "                               'dtauI',                        # time constant of rate equation for the inhibitory population of neurons\n",
    "                               \n",
    "                               'rec_exc',      # recurrent excitation strength of excitatory population\n",
    "                               'cross_inh',    # cross inhibition strength of excitatory population\n",
    "                               'g',            # excitatory drive strength from excitatory population to inhibitory population\n",
    "                               \n",
    "                               'I1',    # external bias current to excitatory population of neurons of left circuit\n",
    "                               'I2',    # external bias current to excitatory population of neurons of right circuit\n",
    "                               'Ii',    # external bias current to inhibitory population of neurons \n",
    "                               'I',     # critical input at which bifurcation takes place\n",
    "                               \n",
    "                               'sigma_E', 'sigma_I',    # width of Gaussian white noise to excitatory and inhibitory populations\n",
    "                               \n",
    "                               'd1i', 'd2i', 'rii'    # initial conditions for the firing rates\n",
    "                              ])  \n",
    "        \n",
    "        values = np.zeros(parameters.shape)\n",
    "        self.params = dict(zip(parameters, values))\n",
    "\n",
    "        \n",
    "    def prep(self, **kwargs):\n",
    "        self.params.update(kwargs.items())\n",
    "        \n",
    "        # ---------------------------------------------------\n",
    "        # Set up network, depending on the default parameters\n",
    "        # ---------------------------------------------------\n",
    "                \n",
    "        self.params.update({'dtau': self.params.get('dtauE') / self.params.get('dtauI')}) \n",
    "        \n",
    "        # initialize simulation\n",
    "        self.params.update({'tpoints': np.arange(0, self.params.get('tmax'), self.params.get('dt')), \n",
    "                            'rsteps': len(np.arange(0, self.params.get('tmax'), self.params.get('dt'))), \n",
    "                            'nsteps': len(np.arange(0, self.params.get('tmax'), self.params.get('dt'))),\n",
    "                            'ntrials': kwargs.get('ntrials')\n",
    "                           })\n",
    "        \n",
    "        self.params.update({'d1': np.zeros((self.params.get('nsteps'), self.params.get('ntrials'))),    # firing rates\n",
    "                            'd2': np.zeros((self.params.get('nsteps'), self.params.get('ntrials'))),\n",
    "                            'ri': np.zeros((self.params.get('nsteps'), self.params.get('ntrials')))\n",
    "                           })\n",
    "        \n",
    "        \n",
    "    def run(self, **kwargs):    \n",
    "        # Decision circuit network à la Roxin and Ledberg PLoS 2008\n",
    "        dt, dtau = self.params.get('dt'), self.params.get('dtau')\n",
    "        dtaue, dtaui = self.params.get('dtauE'), self.params.get('dtauI')\n",
    "        tmax = self.params.get('tmax')\n",
    "        \n",
    "        tpoints = self.params.get('tpoints')\n",
    "        nsteps, rsteps = len(tpoints), len(tpoints)\n",
    "        ntrials = self.params.get('ntrials')\n",
    "                                           \n",
    "        # default neuron and network parameters\n",
    "        rec_exc, cross_inh, g = self.params.get('rec_exc'), self.params.get('cross_inh'), self.params.get('g')\n",
    "        I1, I2, Ii, I = self.params.get('I1'), self.params.get('I2'), self.params.get('Ii'), self.params.get('I')\n",
    "        sigma_E, sigma_I = self.params.get('sigma_E'), self.params.get('sigma_I')\n",
    "        \n",
    "        chi = np.random.normal(loc=0, scale=1, size=(3, nsteps, ntrials))    # unit variance Gaussian white noise\n",
    "        \n",
    "        self.params.get('d1')[-1], self.params.get('d2')[-1], self.params.get('ri')[-1] = self.params.get('d1i'), self.params.get('d2i'), self.params.get('rii')\n",
    "            \n",
    "        tstep = 0\n",
    "        temps = 0.0  \n",
    "        \n",
    "        # Simulation loop\n",
    "        while temps < (tmax - dt):\n",
    "            # Time step variables\n",
    "            kp = tstep % rsteps\n",
    "            k = (tstep + rsteps - 1) % rsteps\n",
    "\n",
    "            try:\n",
    "                input_1 = rec_exc * self.params.get('d1')[k] - cross_inh * self.params.get('ri')[k] + I + I1 \n",
    "                input_2 = rec_exc * self.params.get('d2')[k] - cross_inh * self.params.get('ri')[k] + I + I2 \n",
    "                input_i = g * (self.params.get('d1')[k] + self.params.get('d2')[k]) + Ii\n",
    "\n",
    "                self.params.get('d1')[kp] = self.params.get('d1')[k] + dt / dtaue * (-self.params.get('d1')[k] + sigmoid(input_1)) + np.sqrt(dt / dtaue) * (sigma_E * chi[0, k]) \n",
    "                self.params.get('d2')[kp] = self.params.get('d2')[k] + dt / dtaue * (-self.params.get('d2')[k] + sigmoid(input_2)) + np.sqrt(dt / dtaue) * (sigma_E * chi[1, k])\n",
    "                self.params.get('ri')[kp] = self.params.get('ri')[k] + dt / dtaui * (-self.params.get('ri')[k] + sigmoid(input_i)) + np.sqrt(dt / dtaui) * (sigma_I * chi[2, k]) \n",
    "\n",
    "                self.params.get('d1')[kp] = self.params.get('d1')[kp] \n",
    "                self.params.get('d2')[kp] = self.params.get('d2')[kp]\n",
    "                self.params.get('ri')[kp] = self.params.get('ri')[kp] \n",
    "\n",
    "            except FloatingPointError:\n",
    "                self.params.get('d1')[self.params.get('d1') < 1E-12] = 0.0\n",
    "                self.params.get('d2')[self.params.get('d2') < 1E-12] = 0.0\n",
    "                self.params.get('ri')[self.params.get('ri') < 1E-12] = 0.0\n",
    "\n",
    "            temps += dt\n",
    "            tstep += 1\n",
    "        \n",
    "        self.params.update({'d1i': self.params.get('d1')[-1], 'd2i': self.params.get('d2')[-1], 'rii': self.params.get('ri')[-1]})"
   ]
  },
  {
   "cell_type": "code",
   "execution_count": 7,
   "metadata": {},
   "outputs": [],
   "source": [
    "dc = DC()\n",
    "dc.prep(tmax=2.05, dt=2E-4, dtauE=10E-3, dtauI=10E-3, \n",
    "       rec_exc=1.9, cross_inh=1.0, g=1.0, sigma_E=0.0, sigma_I=0.0, \n",
    "       I1=0.001, I2=-0.001, Ii=0.2, I=0.3679, d1i=0., d2i=0., rii=0.,\n",
    "       ntrials=1)\n",
    "dc.run()"
   ]
  },
  {
   "cell_type": "code",
   "execution_count": 8,
   "metadata": {},
   "outputs": [
    {
     "data": {
      "image/png": "[encoded data removed]",
      "text/plain": [
       "<Figure size 576x432 with 1 Axes>"
      ]
     },
     "metadata": {
      "needs_background": "light"
     },
     "output_type": "display_data"
    }
   ],
   "source": [
    "fig = plt.figure(figsize=(8, 6))\n",
    "\n",
    "ax1 = fig.add_subplot(111)\n",
    "ax1.plot(dc.params.get('tpoints'), dc.params.get('d1') * 50, c='blue', lw=1)\n",
    "ax1.plot(dc.params.get('tpoints'), dc.params.get('d2') * 50, c='orange', lw=1)\n",
    "\n",
    "plt.show()"
   ]
  },
  {
   "cell_type": "code",
   "execution_count": 9,
   "metadata": {},
   "outputs": [],
   "source": [
    "class DC:\n",
    "    def __init__(self):\n",
    "        parameters = np.array(['dt',         # simulation time step (s)\n",
    "                               'tmax',       # total time of the simulation\n",
    "                               \n",
    "                               # default neuron and network parameters\n",
    "                               'dtauE',                        # time constant of rate equation for the excitatory population of neurons\n",
    "                               'dtauI',                        # time constant of rate equation for the inhibitory population of neurons\n",
    "                               \n",
    "                               'rec_exc',      # recurrent excitation strength of excitatory population\n",
    "                               'cross_inh',    # cross inhibition strength of excitatory population\n",
    "                               'g',            # excitatory drive strength from excitatory population to inhibitory population\n",
    "                               \n",
    "                               'I1',    # external bias current to excitatory population of neurons of left circuit\n",
    "                               'I2',    # external bias current to excitatory population of neurons of right circuit\n",
    "                               'Ii',    # external bias current to inhibitory population of neurons \n",
    "                               'I',     # critical input at which bifurcation takes place\n",
    "                               \n",
    "                               'sigma_E', 'sigma_I',    # width of Gaussian white noise to excitatory and inhibitory populations\n",
    "                               \n",
    "                               'd1i', 'd2i', 'rii'    # initial conditions for the firing rates\n",
    "                              ])  \n",
    "        \n",
    "        values = np.zeros(parameters.shape)\n",
    "        self.params = dict(zip(parameters, values))\n",
    "\n",
    "        \n",
    "    def prep(self, **kwargs):\n",
    "        self.params.update(kwargs.items())\n",
    "        \n",
    "        # ---------------------------------------------------\n",
    "        # Set up network, depending on the default parameters\n",
    "        # ---------------------------------------------------\n",
    "                \n",
    "        self.params.update({'dtau': self.params.get('dtauE') / self.params.get('dtauI')}) \n",
    "        \n",
    "        # initialize simulation\n",
    "        self.params.update({'tpoints': np.arange(0, self.params.get('tmax'), self.params.get('dt')), \n",
    "                            'rsteps': len(np.arange(0, self.params.get('tmax'), self.params.get('dt'))), \n",
    "                            'nsteps': len(np.arange(0, self.params.get('tmax'), self.params.get('dt'))),\n",
    "                            'ntrials': kwargs.get('ntrials')\n",
    "                           })\n",
    "        \n",
    "        self.params.update({'d1': np.zeros((self.params.get('nsteps'), self.params.get('ntrials'))),    # firing rates\n",
    "                            'd2': np.zeros((self.params.get('nsteps'), self.params.get('ntrials'))),\n",
    "                            'ri': np.zeros((self.params.get('nsteps'), self.params.get('ntrials')))\n",
    "                           })\n",
    "        \n",
    "        \n",
    "    def run(self, **kwargs):    \n",
    "        # Decision circuit network à la Roxin and Ledberg PLoS 2008\n",
    "        dt, dtau = self.params.get('dt'), self.params.get('dtau')\n",
    "        dtaue, dtaui = self.params.get('dtauE'), self.params.get('dtauI')\n",
    "        tmax = self.params.get('tmax')\n",
    "        \n",
    "        tpoints = self.params.get('tpoints')\n",
    "        nsteps, rsteps = len(tpoints), len(tpoints)\n",
    "        ntrials = self.params.get('ntrials')\n",
    "                                           \n",
    "        # default neuron and network parameters\n",
    "        rec_exc, cross_inh, g = self.params.get('rec_exc'), self.params.get('cross_inh'), self.params.get('g')\n",
    "        I1, I2, Ii, I = self.params.get('I1'), self.params.get('I2'), self.params.get('Ii'), self.params.get('I')\n",
    "        sigma_E, sigma_I = self.params.get('sigma_E'), self.params.get('sigma_I')\n",
    "        \n",
    "        chi = np.random.normal(loc=0, scale=1, size=(3, nsteps, ntrials))    # unit variance Gaussian white noise\n",
    "        \n",
    "        self.params.get('d1')[-1], self.params.get('d2')[-1], self.params.get('ri')[-1] = self.params.get('d1i'), self.params.get('d2i'), self.params.get('rii')\n",
    "            \n",
    "        tstep = 0\n",
    "        temps = 0.0  \n",
    "        \n",
    "        dtauE, dtauI = self.params.get('dtauE'), self.params.get('dtauI')\n",
    "        \n",
    "        # Simulation loop\n",
    "        while temps < (tmax - dt):\n",
    "            # Time step variables\n",
    "            kp = tstep % rsteps\n",
    "            k = (tstep + rsteps - 1) % rsteps\n",
    "\n",
    "            try:\n",
    "                input_1 = dtauE * (rec_exc * self.params.get('d1')[k] - cross_inh * self.params.get('ri')[k]) + I + I1 \n",
    "                input_2 = dtauE * (rec_exc * self.params.get('d2')[k] - cross_inh * self.params.get('ri')[k]) + I + I2 \n",
    "                input_i = dtauI * g * (self.params.get('d1')[k] + self.params.get('d2')[k]) + Ii\n",
    "\n",
    "                self.params.get('d1')[kp] = self.params.get('d1')[k] + dt / dtaue * (-self.params.get('d1')[k] + \n",
    "                                                                                     sigmoid(input_1) / dtauE) + np.sqrt(dt / dtaue) * (sigma_E * chi[0, k]) \n",
    "                self.params.get('d2')[kp] = self.params.get('d2')[k] + dt / dtaue * (-self.params.get('d2')[k] + \n",
    "                                                                                     sigmoid(input_2) / dtauE) + np.sqrt(dt / dtaue) * (sigma_E * chi[1, k])\n",
    "                self.params.get('ri')[kp] = self.params.get('ri')[k] + dt / dtaui * (-self.params.get('ri')[k] + \n",
    "                                                                                     sigmoid(input_i) / dtauI) + np.sqrt(dt / dtaui) * (sigma_I * chi[2, k]) \n",
    "\n",
    "            except FloatingPointError:\n",
    "                self.params.get('d1')[self.params.get('d1') < 1E-12] = 0.0\n",
    "                self.params.get('d2')[self.params.get('d2') < 1E-12] = 0.0\n",
    "                self.params.get('ri')[self.params.get('ri') < 1E-12] = 0.0\n",
    "\n",
    "            temps += dt\n",
    "            tstep += 1\n",
    "        \n",
    "        self.params.update({'d1i': self.params.get('d1')[-1], 'd2i': self.params.get('d2')[-1], 'rii': self.params.get('ri')[-1]})"
   ]
  },
  {
   "cell_type": "code",
   "execution_count": 10,
   "metadata": {},
   "outputs": [
    {
     "data": {
      "text/plain": [
       "0.56"
      ]
     },
     "execution_count": 10,
     "metadata": {},
     "output_type": "execute_result"
    }
   ],
   "source": [
    "dc = DC()\n",
    "dc.prep(tmax=2.5, dt=2E-4, dtauE=20E-3, dtauI=20E-3, \n",
    "       rec_exc=1.9, cross_inh=1.0, g=1.0, sigma_E=0.5, sigma_I=0.5, \n",
    "       I1=0.001, I2=-0.001, Ii=0.2, I=0.5, d1i=0., d2i=0., rii=0.,\n",
    "       ntrials=100)\n",
    "dc.run()\n",
    "fc(dc)"
   ]
  },
  {
   "cell_type": "code",
   "execution_count": 21,
   "metadata": {},
   "outputs": [
    {
     "data": {
      "image/png": "[encoded data removed]",
      "text/plain": [
       "<Figure size 576x432 with 1 Axes>"
      ]
     },
     "metadata": {
      "needs_background": "light"
     },
     "output_type": "display_data"
    }
   ],
   "source": [
    "fig = plt.figure(figsize=(8, 6))\n",
    "\n",
    "ntrial = 6\n",
    "\n",
    "ax1 = fig.add_subplot(111)\n",
    "ax1.plot(dc.params.get('tpoints'), dc.params.get('d1')[:, ntrial], c='blue', lw=1)\n",
    "ax1.plot(dc.params.get('tpoints'), dc.params.get('d2')[:, ntrial], c='orange', lw=1)\n",
    "\n",
    "plt.show()"
   ]
  },
  {
   "cell_type": "markdown",
   "metadata": {},
   "source": [
    "##### Choice accuracy as a function of the input strength $I_1-I_2$, for $I_0 = I_\\text{crit} - 0.001$"
   ]
  },
  {
   "cell_type": "code",
   "execution_count": 22,
   "metadata": {},
   "outputs": [
    {
     "name": "stderr",
     "output_type": "stream",
     "text": [
      "/Users/miguel/opt/anaconda3/lib/python3.8/site-packages/numpy/core/fromnumeric.py:3419: RuntimeWarning: Mean of empty slice.\n",
      "  return _methods._mean(a, axis=axis, dtype=dtype,\n",
      "/Users/miguel/opt/anaconda3/lib/python3.8/site-packages/numpy/core/_methods.py:188: RuntimeWarning: invalid value encountered in double_scalars\n",
      "  ret = ret.dtype.type(ret / rcount)\n"
     ]
    },
    {
     "name": "stdout",
     "output_type": "stream",
     "text": [
      "228.72884392738342\n"
     ]
    }
   ],
   "source": [
    "start = time.time()\n",
    "\n",
    "coh = np.logspace(0, 2, 15)\n",
    "diff = 1e-5 * coh\n",
    "i1, i2 = diff / 2, -diff / 2\n",
    "\n",
    "fc_tr, rt_tr, und_tr = np.empty(0), np.empty(0), np.empty(0)\n",
    "\n",
    "for i in range(diff.size):\n",
    "    dc_tr = DC()\n",
    "    dc_tr.prep(tmax=100.0, dt=1./40., dtauE=200.0, dtauI=200.0, \n",
    "               rec_exc=1.9, cross_inh=1.0, g=1.0, sigma_E=0.001, sigma_I=0.001, \n",
    "               I1=0., I2=0., Ii=0.2, I=0.2,\n",
    "               ntrials=1000)\n",
    "    dc_tr.run()\n",
    "    dc_tr.prep(tmax=2000.0, I1=i1[i], I2=i2[i], I=0.3679 - 0.001, ntrials=1000)\n",
    "    dc_tr.run()\n",
    "    \n",
    "    fc_tr = np.concatenate([fc_tr, np.array([fc(dc_tr)])])\n",
    "    rt_tr = np.concatenate([rt_tr, np.array([rt(dc_tr, th=0.7)])])\n",
    "    und_tr = np.concatenate([und_tr, np.array([len(np.where((dc_tr.params.get('d1')[-1] < 0.7) & (dc_tr.params.get('d2')[-1] < 0.7))[0])])])\n",
    "    if i+1 < diff.size: del dc_tr\n",
    "        \n",
    "end = time.time()\n",
    "print(end - start)"
   ]
  },
  {
   "cell_type": "markdown",
   "metadata": {},
   "source": [
    "##### Choice accuracy as a function of the input strength $I_1-I_2$, for $I_0 = I_\\text{crit}$"
   ]
  },
  {
   "cell_type": "code",
   "execution_count": 23,
   "metadata": {},
   "outputs": [
    {
     "ename": "KeyboardInterrupt",
     "evalue": "",
     "output_type": "error",
     "traceback": [
      "\u001b[0;31m---------------------------------------------------------------------------\u001b[0m",
      "\u001b[0;31mKeyboardInterrupt\u001b[0m                         Traceback (most recent call last)",
      "\u001b[0;32m<ipython-input-23-f3d3ecb26fdb>\u001b[0m in \u001b[0;36m<module>\u001b[0;34m\u001b[0m\n\u001b[1;32m     15\u001b[0m     \u001b[0mdc_sq\u001b[0m\u001b[0;34m.\u001b[0m\u001b[0mrun\u001b[0m\u001b[0;34m(\u001b[0m\u001b[0;34m)\u001b[0m\u001b[0;34m\u001b[0m\u001b[0;34m\u001b[0m\u001b[0m\n\u001b[1;32m     16\u001b[0m     \u001b[0mdc_sq\u001b[0m\u001b[0;34m.\u001b[0m\u001b[0mprep\u001b[0m\u001b[0;34m(\u001b[0m\u001b[0mtmax\u001b[0m\u001b[0;34m=\u001b[0m\u001b[0;36m2000.0\u001b[0m\u001b[0;34m,\u001b[0m \u001b[0mI1\u001b[0m\u001b[0;34m=\u001b[0m\u001b[0mi1\u001b[0m\u001b[0;34m[\u001b[0m\u001b[0mi\u001b[0m\u001b[0;34m]\u001b[0m\u001b[0;34m,\u001b[0m \u001b[0mI2\u001b[0m\u001b[0;34m=\u001b[0m\u001b[0mi2\u001b[0m\u001b[0;34m[\u001b[0m\u001b[0mi\u001b[0m\u001b[0;34m]\u001b[0m\u001b[0;34m,\u001b[0m \u001b[0mI\u001b[0m\u001b[0;34m=\u001b[0m\u001b[0;36m0.3679\u001b[0m\u001b[0;34m,\u001b[0m \u001b[0mntrials\u001b[0m\u001b[0;34m=\u001b[0m\u001b[0;36m1000\u001b[0m\u001b[0;34m)\u001b[0m\u001b[0;34m\u001b[0m\u001b[0;34m\u001b[0m\u001b[0m\n\u001b[0;32m---> 17\u001b[0;31m     \u001b[0mdc_sq\u001b[0m\u001b[0;34m.\u001b[0m\u001b[0mrun\u001b[0m\u001b[0;34m(\u001b[0m\u001b[0;34m)\u001b[0m\u001b[0;34m\u001b[0m\u001b[0;34m\u001b[0m\u001b[0m\n\u001b[0m\u001b[1;32m     18\u001b[0m \u001b[0;34m\u001b[0m\u001b[0m\n\u001b[1;32m     19\u001b[0m     \u001b[0mfc_sq\u001b[0m \u001b[0;34m=\u001b[0m \u001b[0mnp\u001b[0m\u001b[0;34m.\u001b[0m\u001b[0mconcatenate\u001b[0m\u001b[0;34m(\u001b[0m\u001b[0;34m[\u001b[0m\u001b[0mfc_sq\u001b[0m\u001b[0;34m,\u001b[0m \u001b[0mnp\u001b[0m\u001b[0;34m.\u001b[0m\u001b[0marray\u001b[0m\u001b[0;34m(\u001b[0m\u001b[0;34m[\u001b[0m\u001b[0mfc\u001b[0m\u001b[0;34m(\u001b[0m\u001b[0mdc_sq\u001b[0m\u001b[0;34m)\u001b[0m\u001b[0;34m]\u001b[0m\u001b[0;34m)\u001b[0m\u001b[0;34m]\u001b[0m\u001b[0;34m)\u001b[0m\u001b[0;34m\u001b[0m\u001b[0;34m\u001b[0m\u001b[0m\n",
      "\u001b[0;32m<ipython-input-9-f7c9f483fb44>\u001b[0m in \u001b[0;36mrun\u001b[0;34m(self, **kwargs)\u001b[0m\n\u001b[1;32m     83\u001b[0m                 \u001b[0minput_i\u001b[0m \u001b[0;34m=\u001b[0m \u001b[0mdtauI\u001b[0m \u001b[0;34m*\u001b[0m \u001b[0mg\u001b[0m \u001b[0;34m*\u001b[0m \u001b[0;34m(\u001b[0m\u001b[0mself\u001b[0m\u001b[0;34m.\u001b[0m\u001b[0mparams\u001b[0m\u001b[0;34m.\u001b[0m\u001b[0mget\u001b[0m\u001b[0;34m(\u001b[0m\u001b[0;34m'd1'\u001b[0m\u001b[0;34m)\u001b[0m\u001b[0;34m[\u001b[0m\u001b[0mk\u001b[0m\u001b[0;34m]\u001b[0m \u001b[0;34m+\u001b[0m \u001b[0mself\u001b[0m\u001b[0;34m.\u001b[0m\u001b[0mparams\u001b[0m\u001b[0;34m.\u001b[0m\u001b[0mget\u001b[0m\u001b[0;34m(\u001b[0m\u001b[0;34m'd2'\u001b[0m\u001b[0;34m)\u001b[0m\u001b[0;34m[\u001b[0m\u001b[0mk\u001b[0m\u001b[0;34m]\u001b[0m\u001b[0;34m)\u001b[0m \u001b[0;34m+\u001b[0m \u001b[0mIi\u001b[0m\u001b[0;34m\u001b[0m\u001b[0;34m\u001b[0m\u001b[0m\n\u001b[1;32m     84\u001b[0m \u001b[0;34m\u001b[0m\u001b[0m\n\u001b[0;32m---> 85\u001b[0;31m                 self.params.get('d1')[kp] = self.params.get('d1')[k] + dt / dtaue * (-self.params.get('d1')[k] + \n\u001b[0m\u001b[1;32m     86\u001b[0m                                                                                      sigmoid(input_1) / dtauE) + np.sqrt(dt / dtaue) * (sigma_E * chi[0, k]) \n\u001b[1;32m     87\u001b[0m                 self.params.get('d2')[kp] = self.params.get('d2')[k] + dt / dtaue * (-self.params.get('d2')[k] + \n",
      "\u001b[0;31mKeyboardInterrupt\u001b[0m: "
     ]
    }
   ],
   "source": [
    "start = time.time()\n",
    "\n",
    "coh = np.logspace(0, 2, 15)\n",
    "diff = 1e-5 * coh\n",
    "i1, i2 = diff / 2, -diff / 2\n",
    "\n",
    "fc_sq, rt_sq, und_sq = np.empty(0), np.empty(0), np.empty(0)\n",
    "\n",
    "for i in range(diff.size):\n",
    "    dc_sq = DC()\n",
    "    dc_sq.prep(tmax=100.0, dt=1./40., dtauE=200.0, dtauI=200.0, \n",
    "               rec_exc=1.9, cross_inh=1.0, g=1.0, sigma_E=0.001, sigma_I=0.001, \n",
    "               I1=0., I2=0., Ii=0.2, I=0.2,\n",
    "               ntrials=1000)\n",
    "    dc_sq.run()\n",
    "    dc_sq.prep(tmax=2000.0, I1=i1[i], I2=i2[i], I=0.3679, ntrials=1000)\n",
    "    dc_sq.run()\n",
    "    \n",
    "    fc_sq = np.concatenate([fc_sq, np.array([fc(dc_sq)])])\n",
    "    rt_sq = np.concatenate([rt_sq, np.array([rt(dc_sq, th=0.7)])])\n",
    "    und_sq = np.concatenate([und_sq, np.array([len(np.where((dc_sq.params.get('d1')[-1] < 0.7) & (dc_sq.params.get('d2')[-1] < 0.7))[0])])])\n",
    "    if i+1 < diff.size: del dc_sq\n",
    "    \n",
    "end = time.time()\n",
    "print(end - start)"
   ]
  },
  {
   "cell_type": "markdown",
   "metadata": {},
   "source": [
    "##### Choice accuracy as a function of the input strength $I_1-I_2$, for $I_0 = I_\\text{crit} + 0.0012$"
   ]
  },
  {
   "cell_type": "code",
   "execution_count": null,
   "metadata": {},
   "outputs": [],
   "source": [
    "start = time.time()\n",
    "\n",
    "coh = np.logspace(0, 2, 15)\n",
    "diff = 1e-5 * coh\n",
    "i1, i2 = diff / 2, -diff / 2\n",
    "\n",
    "fc_ci, rt_ci, und_ci = np.empty(0), np.empty(0), np.empty(0)\n",
    "\n",
    "for i in range(diff.size):\n",
    "    dc_ci = DC()\n",
    "    dc_ci.prep(tmax=100.0, dt=1./40., dtauE=200.0, dtauI=200.0, \n",
    "               rec_exc=1.9, cross_inh=1.0, g=1.0, sigma_E=0.001, sigma_I=0.001, \n",
    "               I1=0., I2=0., Ii=0.2, I=0.2,\n",
    "               ntrials=1000)\n",
    "    dc_ci.run()\n",
    "    dc_ci.prep(tmax=2000.0, I1=i1[i], I2=i2[i], Ii=0.2, I=0.3679 + 0.0012, ntrials=1000)\n",
    "    dc_ci.run()\n",
    "    \n",
    "    fc_ci = np.concatenate([fc_ci, np.array([fc(dc_ci)])])\n",
    "    rt_ci = np.concatenate([rt_ci, np.array([rt(dc_ci, th=0.7)])])\n",
    "    und_ci = np.concatenate([und_ci, np.array([len(np.where((dc_ci.params.get('d1')[-1] < 0.7) & (dc_ci.params.get('d2')[-1] < 0.7))[0])])])\n",
    "    if i+1 < diff.size: del dc_ci\n",
    "        \n",
    "end = time.time()\n",
    "print(end - start)"
   ]
  },
  {
   "cell_type": "markdown",
   "metadata": {},
   "source": [
    "##### Choice accuracy as a function of the input strength $I_1-I_2$, for $I_0 = I_\\text{crit} + 0.0321$"
   ]
  },
  {
   "cell_type": "code",
   "execution_count": null,
   "metadata": {},
   "outputs": [],
   "source": [
    "start = time.time()\n",
    "\n",
    "coh = np.logspace(0, 2, 15)\n",
    "diff = 1e-5 * coh\n",
    "i1, i2 = diff / 2, -diff / 2\n",
    "\n",
    "fc_di, rt_di, und_di = np.empty(0), np.empty(0), np.empty(0) \n",
    "\n",
    "for i in range(diff.size):\n",
    "    dc_di = DC()\n",
    "    dc_di.prep(tmax=100.0, dt=1./40., dtauE=200.0, dtauI=200.0, \n",
    "               rec_exc=1.9, cross_inh=1.0, g=1.0, sigma_E=0.001, sigma_I=0.001, \n",
    "               I1=0., I2=0., Ii=0.2, I=0.2,\n",
    "               ntrials=1000)\n",
    "    dc_di.run()\n",
    "    dc_di.prep(tmax=2000.0, I1=i1[i], I2=i2[i], I=0.3679 + 0.0321, ntrials=1000)\n",
    "    dc_di.run()\n",
    "    \n",
    "    fc_di = np.concatenate([fc_di, np.array([fc(dc_di)])])\n",
    "    rt_di = np.concatenate([rt_di, np.array([rt(dc_di, th=0.7)])])\n",
    "    und_di = np.concatenate([und_di, np.array([len(np.where((dc_di.params.get('d1')[-1] < 0.7) & (dc_di.params.get('d2')[-1] < 0.7))[0])])])\n",
    "    if i+1 < diff.size: del dc_di\n",
    "        \n",
    "end = time.time()\n",
    "print(end - start)"
   ]
  },
  {
   "cell_type": "code",
   "execution_count": 17,
   "metadata": {},
   "outputs": [
    {
     "ename": "ValueError",
     "evalue": "Data has no positive values, and therefore can not be log-scaled.",
     "output_type": "error",
     "traceback": [
      "\u001b[0;31m---------------------------------------------------------------------------\u001b[0m",
      "\u001b[0;31mValueError\u001b[0m                                Traceback (most recent call last)",
      "\u001b[0;32m<ipython-input-17-46e962aaa83c>\u001b[0m in \u001b[0;36m<module>\u001b[0;34m\u001b[0m\n\u001b[1;32m     53\u001b[0m     \u001b[0mfig\u001b[0m\u001b[0;34m.\u001b[0m\u001b[0mtight_layout\u001b[0m\u001b[0;34m(\u001b[0m\u001b[0;34m)\u001b[0m\u001b[0;34m\u001b[0m\u001b[0;34m\u001b[0m\u001b[0m\n\u001b[1;32m     54\u001b[0m     \u001b[0;31m#plt.savefig('/Users/miguel/Desktop/dc/fc-rt_ntrials={ntrials}.pdf'.format(ntrials=dc_tr.params.get('ntrials')))\u001b[0m\u001b[0;34m\u001b[0m\u001b[0;34m\u001b[0m\u001b[0;34m\u001b[0m\u001b[0m\n\u001b[0;32m---> 55\u001b[0;31m \u001b[0mplt\u001b[0m\u001b[0;34m.\u001b[0m\u001b[0mshow\u001b[0m\u001b[0;34m(\u001b[0m\u001b[0;34m)\u001b[0m\u001b[0;34m\u001b[0m\u001b[0;34m\u001b[0m\u001b[0m\n\u001b[0m",
      "\u001b[0;32m~/opt/anaconda3/lib/python3.8/site-packages/matplotlib/pyplot.py\u001b[0m in \u001b[0;36mshow\u001b[0;34m(*args, **kwargs)\u001b[0m\n\u001b[1;32m    409\u001b[0m     \"\"\"\n\u001b[1;32m    410\u001b[0m     \u001b[0m_warn_if_gui_out_of_main_thread\u001b[0m\u001b[0;34m(\u001b[0m\u001b[0;34m)\u001b[0m\u001b[0;34m\u001b[0m\u001b[0;34m\u001b[0m\u001b[0m\n\u001b[0;32m--> 411\u001b[0;31m     \u001b[0;32mreturn\u001b[0m \u001b[0m_get_backend_mod\u001b[0m\u001b[0;34m(\u001b[0m\u001b[0;34m)\u001b[0m\u001b[0;34m.\u001b[0m\u001b[0mshow\u001b[0m\u001b[0;34m(\u001b[0m\u001b[0;34m*\u001b[0m\u001b[0margs\u001b[0m\u001b[0;34m,\u001b[0m \u001b[0;34m**\u001b[0m\u001b[0mkwargs\u001b[0m\u001b[0;34m)\u001b[0m\u001b[0;34m\u001b[0m\u001b[0;34m\u001b[0m\u001b[0m\n\u001b[0m\u001b[1;32m    412\u001b[0m \u001b[0;34m\u001b[0m\u001b[0m\n\u001b[1;32m    413\u001b[0m \u001b[0;34m\u001b[0m\u001b[0m\n",
      "\u001b[0;32m~/opt/anaconda3/lib/python3.8/site-packages/ipykernel/pylab/backend_inline.py\u001b[0m in \u001b[0;36mshow\u001b[0;34m(close, block)\u001b[0m\n\u001b[1;32m     41\u001b[0m             display(\n\u001b[1;32m     42\u001b[0m                 \u001b[0mfigure_manager\u001b[0m\u001b[0;34m.\u001b[0m\u001b[0mcanvas\u001b[0m\u001b[0;34m.\u001b[0m\u001b[0mfigure\u001b[0m\u001b[0;34m,\u001b[0m\u001b[0;34m\u001b[0m\u001b[0;34m\u001b[0m\u001b[0m\n\u001b[0;32m---> 43\u001b[0;31m                 \u001b[0mmetadata\u001b[0m\u001b[0;34m=\u001b[0m\u001b[0m_fetch_figure_metadata\u001b[0m\u001b[0;34m(\u001b[0m\u001b[0mfigure_manager\u001b[0m\u001b[0;34m.\u001b[0m\u001b[0mcanvas\u001b[0m\u001b[0;34m.\u001b[0m\u001b[0mfigure\u001b[0m\u001b[0;34m)\u001b[0m\u001b[0;34m\u001b[0m\u001b[0;34m\u001b[0m\u001b[0m\n\u001b[0m\u001b[1;32m     44\u001b[0m             )\n\u001b[1;32m     45\u001b[0m     \u001b[0;32mfinally\u001b[0m\u001b[0;34m:\u001b[0m\u001b[0;34m\u001b[0m\u001b[0;34m\u001b[0m\u001b[0m\n",
      "\u001b[0;32m~/opt/anaconda3/lib/python3.8/site-packages/ipykernel/pylab/backend_inline.py\u001b[0m in \u001b[0;36m_fetch_figure_metadata\u001b[0;34m(fig)\u001b[0m\n\u001b[1;32m    178\u001b[0m     \u001b[0;32mif\u001b[0m \u001b[0m_is_transparent\u001b[0m\u001b[0;34m(\u001b[0m\u001b[0mfig\u001b[0m\u001b[0;34m.\u001b[0m\u001b[0mget_facecolor\u001b[0m\u001b[0;34m(\u001b[0m\u001b[0;34m)\u001b[0m\u001b[0;34m)\u001b[0m\u001b[0;34m:\u001b[0m\u001b[0;34m\u001b[0m\u001b[0;34m\u001b[0m\u001b[0m\n\u001b[1;32m    179\u001b[0m         \u001b[0;31m# the background is transparent\u001b[0m\u001b[0;34m\u001b[0m\u001b[0;34m\u001b[0m\u001b[0;34m\u001b[0m\u001b[0m\n\u001b[0;32m--> 180\u001b[0;31m         ticksLight = _is_light([label.get_color()\n\u001b[0m\u001b[1;32m    181\u001b[0m                                 \u001b[0;32mfor\u001b[0m \u001b[0maxes\u001b[0m \u001b[0;32min\u001b[0m \u001b[0mfig\u001b[0m\u001b[0;34m.\u001b[0m\u001b[0maxes\u001b[0m\u001b[0;34m\u001b[0m\u001b[0;34m\u001b[0m\u001b[0m\n\u001b[1;32m    182\u001b[0m                                 \u001b[0;32mfor\u001b[0m \u001b[0maxis\u001b[0m \u001b[0;32min\u001b[0m \u001b[0;34m(\u001b[0m\u001b[0maxes\u001b[0m\u001b[0;34m.\u001b[0m\u001b[0mxaxis\u001b[0m\u001b[0;34m,\u001b[0m \u001b[0maxes\u001b[0m\u001b[0;34m.\u001b[0m\u001b[0myaxis\u001b[0m\u001b[0;34m)\u001b[0m\u001b[0;34m\u001b[0m\u001b[0;34m\u001b[0m\u001b[0m\n",
      "\u001b[0;32m~/opt/anaconda3/lib/python3.8/site-packages/ipykernel/pylab/backend_inline.py\u001b[0m in \u001b[0;36m<listcomp>\u001b[0;34m(.0)\u001b[0m\n\u001b[1;32m    181\u001b[0m                                 \u001b[0;32mfor\u001b[0m \u001b[0maxes\u001b[0m \u001b[0;32min\u001b[0m \u001b[0mfig\u001b[0m\u001b[0;34m.\u001b[0m\u001b[0maxes\u001b[0m\u001b[0;34m\u001b[0m\u001b[0;34m\u001b[0m\u001b[0m\n\u001b[1;32m    182\u001b[0m                                 \u001b[0;32mfor\u001b[0m \u001b[0maxis\u001b[0m \u001b[0;32min\u001b[0m \u001b[0;34m(\u001b[0m\u001b[0maxes\u001b[0m\u001b[0;34m.\u001b[0m\u001b[0mxaxis\u001b[0m\u001b[0;34m,\u001b[0m \u001b[0maxes\u001b[0m\u001b[0;34m.\u001b[0m\u001b[0myaxis\u001b[0m\u001b[0;34m)\u001b[0m\u001b[0;34m\u001b[0m\u001b[0;34m\u001b[0m\u001b[0m\n\u001b[0;32m--> 183\u001b[0;31m                                 for label in axis.get_ticklabels()])\n\u001b[0m\u001b[1;32m    184\u001b[0m         \u001b[0;32mif\u001b[0m \u001b[0mticksLight\u001b[0m\u001b[0;34m.\u001b[0m\u001b[0msize\u001b[0m \u001b[0;32mand\u001b[0m \u001b[0;34m(\u001b[0m\u001b[0mticksLight\u001b[0m \u001b[0;34m==\u001b[0m \u001b[0mticksLight\u001b[0m\u001b[0;34m[\u001b[0m\u001b[0;36m0\u001b[0m\u001b[0;34m]\u001b[0m\u001b[0;34m)\u001b[0m\u001b[0;34m.\u001b[0m\u001b[0mall\u001b[0m\u001b[0;34m(\u001b[0m\u001b[0;34m)\u001b[0m\u001b[0;34m:\u001b[0m\u001b[0;34m\u001b[0m\u001b[0;34m\u001b[0m\u001b[0m\n\u001b[1;32m    185\u001b[0m             \u001b[0;31m# there are one or more tick labels, all with the same lightness\u001b[0m\u001b[0;34m\u001b[0m\u001b[0;34m\u001b[0m\u001b[0;34m\u001b[0m\u001b[0m\n",
      "\u001b[0;32m~/opt/anaconda3/lib/python3.8/site-packages/matplotlib/axis.py\u001b[0m in \u001b[0;36mget_ticklabels\u001b[0;34m(self, minor, which)\u001b[0m\n\u001b[1;32m   1386\u001b[0m         \u001b[0;32mif\u001b[0m \u001b[0mminor\u001b[0m\u001b[0;34m:\u001b[0m\u001b[0;34m\u001b[0m\u001b[0;34m\u001b[0m\u001b[0m\n\u001b[1;32m   1387\u001b[0m             \u001b[0;32mreturn\u001b[0m \u001b[0mself\u001b[0m\u001b[0;34m.\u001b[0m\u001b[0mget_minorticklabels\u001b[0m\u001b[0;34m(\u001b[0m\u001b[0;34m)\u001b[0m\u001b[0;34m\u001b[0m\u001b[0;34m\u001b[0m\u001b[0m\n\u001b[0;32m-> 1388\u001b[0;31m         \u001b[0;32mreturn\u001b[0m \u001b[0mself\u001b[0m\u001b[0;34m.\u001b[0m\u001b[0mget_majorticklabels\u001b[0m\u001b[0;34m(\u001b[0m\u001b[0;34m)\u001b[0m\u001b[0;34m\u001b[0m\u001b[0;34m\u001b[0m\u001b[0m\n\u001b[0m\u001b[1;32m   1389\u001b[0m \u001b[0;34m\u001b[0m\u001b[0m\n\u001b[1;32m   1390\u001b[0m     \u001b[0;32mdef\u001b[0m \u001b[0mget_majorticklines\u001b[0m\u001b[0;34m(\u001b[0m\u001b[0mself\u001b[0m\u001b[0;34m)\u001b[0m\u001b[0;34m:\u001b[0m\u001b[0;34m\u001b[0m\u001b[0;34m\u001b[0m\u001b[0m\n",
      "\u001b[0;32m~/opt/anaconda3/lib/python3.8/site-packages/matplotlib/axis.py\u001b[0m in \u001b[0;36mget_majorticklabels\u001b[0;34m(self)\u001b[0m\n\u001b[1;32m   1343\u001b[0m     \u001b[0;32mdef\u001b[0m \u001b[0mget_majorticklabels\u001b[0m\u001b[0;34m(\u001b[0m\u001b[0mself\u001b[0m\u001b[0;34m)\u001b[0m\u001b[0;34m:\u001b[0m\u001b[0;34m\u001b[0m\u001b[0;34m\u001b[0m\u001b[0m\n\u001b[1;32m   1344\u001b[0m         \u001b[0;34m\"\"\"Return this Axis' major tick labels, as a list of `~.text.Text`.\"\"\"\u001b[0m\u001b[0;34m\u001b[0m\u001b[0;34m\u001b[0m\u001b[0m\n\u001b[0;32m-> 1345\u001b[0;31m         \u001b[0mself\u001b[0m\u001b[0;34m.\u001b[0m\u001b[0m_update_ticks\u001b[0m\u001b[0;34m(\u001b[0m\u001b[0;34m)\u001b[0m\u001b[0;34m\u001b[0m\u001b[0;34m\u001b[0m\u001b[0m\n\u001b[0m\u001b[1;32m   1346\u001b[0m         \u001b[0mticks\u001b[0m \u001b[0;34m=\u001b[0m \u001b[0mself\u001b[0m\u001b[0;34m.\u001b[0m\u001b[0mget_major_ticks\u001b[0m\u001b[0;34m(\u001b[0m\u001b[0;34m)\u001b[0m\u001b[0;34m\u001b[0m\u001b[0;34m\u001b[0m\u001b[0m\n\u001b[1;32m   1347\u001b[0m         \u001b[0mlabels1\u001b[0m \u001b[0;34m=\u001b[0m \u001b[0;34m[\u001b[0m\u001b[0mtick\u001b[0m\u001b[0;34m.\u001b[0m\u001b[0mlabel1\u001b[0m \u001b[0;32mfor\u001b[0m \u001b[0mtick\u001b[0m \u001b[0;32min\u001b[0m \u001b[0mticks\u001b[0m \u001b[0;32mif\u001b[0m \u001b[0mtick\u001b[0m\u001b[0;34m.\u001b[0m\u001b[0mlabel1\u001b[0m\u001b[0;34m.\u001b[0m\u001b[0mget_visible\u001b[0m\u001b[0;34m(\u001b[0m\u001b[0;34m)\u001b[0m\u001b[0;34m]\u001b[0m\u001b[0;34m\u001b[0m\u001b[0;34m\u001b[0m\u001b[0m\n",
      "\u001b[0;32m~/opt/anaconda3/lib/python3.8/site-packages/matplotlib/axis.py\u001b[0m in \u001b[0;36m_update_ticks\u001b[0;34m(self)\u001b[0m\n\u001b[1;32m   1188\u001b[0m         \u001b[0mthe\u001b[0m \u001b[0maxes\u001b[0m\u001b[0;34m.\u001b[0m  \u001b[0mReturn\u001b[0m \u001b[0mthe\u001b[0m \u001b[0mlist\u001b[0m \u001b[0mof\u001b[0m \u001b[0mticks\u001b[0m \u001b[0mthat\u001b[0m \u001b[0mwill\u001b[0m \u001b[0mbe\u001b[0m \u001b[0mdrawn\u001b[0m\u001b[0;34m.\u001b[0m\u001b[0;34m\u001b[0m\u001b[0;34m\u001b[0m\u001b[0m\n\u001b[1;32m   1189\u001b[0m         \"\"\"\n\u001b[0;32m-> 1190\u001b[0;31m         \u001b[0mmajor_locs\u001b[0m \u001b[0;34m=\u001b[0m \u001b[0mself\u001b[0m\u001b[0;34m.\u001b[0m\u001b[0mget_majorticklocs\u001b[0m\u001b[0;34m(\u001b[0m\u001b[0;34m)\u001b[0m\u001b[0;34m\u001b[0m\u001b[0;34m\u001b[0m\u001b[0m\n\u001b[0m\u001b[1;32m   1191\u001b[0m         \u001b[0mmajor_labels\u001b[0m \u001b[0;34m=\u001b[0m \u001b[0mself\u001b[0m\u001b[0;34m.\u001b[0m\u001b[0mmajor\u001b[0m\u001b[0;34m.\u001b[0m\u001b[0mformatter\u001b[0m\u001b[0;34m.\u001b[0m\u001b[0mformat_ticks\u001b[0m\u001b[0;34m(\u001b[0m\u001b[0mmajor_locs\u001b[0m\u001b[0;34m)\u001b[0m\u001b[0;34m\u001b[0m\u001b[0;34m\u001b[0m\u001b[0m\n\u001b[1;32m   1192\u001b[0m         \u001b[0mmajor_ticks\u001b[0m \u001b[0;34m=\u001b[0m \u001b[0mself\u001b[0m\u001b[0;34m.\u001b[0m\u001b[0mget_major_ticks\u001b[0m\u001b[0;34m(\u001b[0m\u001b[0mlen\u001b[0m\u001b[0;34m(\u001b[0m\u001b[0mmajor_locs\u001b[0m\u001b[0;34m)\u001b[0m\u001b[0;34m)\u001b[0m\u001b[0;34m\u001b[0m\u001b[0;34m\u001b[0m\u001b[0m\n",
      "\u001b[0;32m~/opt/anaconda3/lib/python3.8/site-packages/matplotlib/axis.py\u001b[0m in \u001b[0;36mget_majorticklocs\u001b[0;34m(self)\u001b[0m\n\u001b[1;32m   1414\u001b[0m     \u001b[0;32mdef\u001b[0m \u001b[0mget_majorticklocs\u001b[0m\u001b[0;34m(\u001b[0m\u001b[0mself\u001b[0m\u001b[0;34m)\u001b[0m\u001b[0;34m:\u001b[0m\u001b[0;34m\u001b[0m\u001b[0;34m\u001b[0m\u001b[0m\n\u001b[1;32m   1415\u001b[0m         \u001b[0;34m\"\"\"Return this Axis' major tick locations in data coordinates.\"\"\"\u001b[0m\u001b[0;34m\u001b[0m\u001b[0;34m\u001b[0m\u001b[0m\n\u001b[0;32m-> 1416\u001b[0;31m         \u001b[0;32mreturn\u001b[0m \u001b[0mself\u001b[0m\u001b[0;34m.\u001b[0m\u001b[0mmajor\u001b[0m\u001b[0;34m.\u001b[0m\u001b[0mlocator\u001b[0m\u001b[0;34m(\u001b[0m\u001b[0;34m)\u001b[0m\u001b[0;34m\u001b[0m\u001b[0;34m\u001b[0m\u001b[0m\n\u001b[0m\u001b[1;32m   1417\u001b[0m \u001b[0;34m\u001b[0m\u001b[0m\n\u001b[1;32m   1418\u001b[0m     \u001b[0;32mdef\u001b[0m \u001b[0mget_minorticklocs\u001b[0m\u001b[0;34m(\u001b[0m\u001b[0mself\u001b[0m\u001b[0;34m)\u001b[0m\u001b[0;34m:\u001b[0m\u001b[0;34m\u001b[0m\u001b[0;34m\u001b[0m\u001b[0m\n",
      "\u001b[0;32m~/opt/anaconda3/lib/python3.8/site-packages/matplotlib/ticker.py\u001b[0m in \u001b[0;36m__call__\u001b[0;34m(self)\u001b[0m\n\u001b[1;32m   2344\u001b[0m         \u001b[0;34m\"\"\"Return the locations of the ticks.\"\"\"\u001b[0m\u001b[0;34m\u001b[0m\u001b[0;34m\u001b[0m\u001b[0m\n\u001b[1;32m   2345\u001b[0m         \u001b[0mvmin\u001b[0m\u001b[0;34m,\u001b[0m \u001b[0mvmax\u001b[0m \u001b[0;34m=\u001b[0m \u001b[0mself\u001b[0m\u001b[0;34m.\u001b[0m\u001b[0maxis\u001b[0m\u001b[0;34m.\u001b[0m\u001b[0mget_view_interval\u001b[0m\u001b[0;34m(\u001b[0m\u001b[0;34m)\u001b[0m\u001b[0;34m\u001b[0m\u001b[0;34m\u001b[0m\u001b[0m\n\u001b[0;32m-> 2346\u001b[0;31m         \u001b[0;32mreturn\u001b[0m \u001b[0mself\u001b[0m\u001b[0;34m.\u001b[0m\u001b[0mtick_values\u001b[0m\u001b[0;34m(\u001b[0m\u001b[0mvmin\u001b[0m\u001b[0;34m,\u001b[0m \u001b[0mvmax\u001b[0m\u001b[0;34m)\u001b[0m\u001b[0;34m\u001b[0m\u001b[0;34m\u001b[0m\u001b[0m\n\u001b[0m\u001b[1;32m   2347\u001b[0m \u001b[0;34m\u001b[0m\u001b[0m\n\u001b[1;32m   2348\u001b[0m     \u001b[0;32mdef\u001b[0m \u001b[0mtick_values\u001b[0m\u001b[0;34m(\u001b[0m\u001b[0mself\u001b[0m\u001b[0;34m,\u001b[0m \u001b[0mvmin\u001b[0m\u001b[0;34m,\u001b[0m \u001b[0mvmax\u001b[0m\u001b[0;34m)\u001b[0m\u001b[0;34m:\u001b[0m\u001b[0;34m\u001b[0m\u001b[0;34m\u001b[0m\u001b[0m\n",
      "\u001b[0;32m~/opt/anaconda3/lib/python3.8/site-packages/matplotlib/ticker.py\u001b[0m in \u001b[0;36mtick_values\u001b[0;34m(self, vmin, vmax)\u001b[0m\n\u001b[1;32m   2369\u001b[0m \u001b[0;34m\u001b[0m\u001b[0m\n\u001b[1;32m   2370\u001b[0m             \u001b[0;32mif\u001b[0m \u001b[0mvmin\u001b[0m \u001b[0;34m<=\u001b[0m \u001b[0;36m0.0\u001b[0m \u001b[0;32mor\u001b[0m \u001b[0;32mnot\u001b[0m \u001b[0mnp\u001b[0m\u001b[0;34m.\u001b[0m\u001b[0misfinite\u001b[0m\u001b[0;34m(\u001b[0m\u001b[0mvmin\u001b[0m\u001b[0;34m)\u001b[0m\u001b[0;34m:\u001b[0m\u001b[0;34m\u001b[0m\u001b[0;34m\u001b[0m\u001b[0m\n\u001b[0;32m-> 2371\u001b[0;31m                 raise ValueError(\n\u001b[0m\u001b[1;32m   2372\u001b[0m                     \u001b[0;34m\"Data has no positive values, and therefore can not be \"\u001b[0m\u001b[0;34m\u001b[0m\u001b[0;34m\u001b[0m\u001b[0m\n\u001b[1;32m   2373\u001b[0m                     \"log-scaled.\")\n",
      "\u001b[0;31mValueError\u001b[0m: Data has no positive values, and therefore can not be log-scaled."
     ]
    }
   ],
   "source": [
    "coh = np.logspace(0, 2, 15)\n",
    "diff = 1e-5 * coh\n",
    "\n",
    "fig = plt.figure(figsize=(24, 6))\n",
    "\n",
    "ax1 = fig.add_subplot(131)\n",
    "ax1.plot(diff, fc_tr, c='blue', lw=0.75, zorder=1)\n",
    "ax1.scatter(diff, fc_tr, c='blue', marker='^', s=20, zorder=2)\n",
    "ax1.plot(diff, fc_sq, c='orange', lw=0.75, zorder=1)\n",
    "ax1.scatter(diff, fc_sq, c='orange', marker='s', s=20, zorder=2)\n",
    "ax1.plot(diff, fc_ci, c='red', lw=0.75, zorder=1)\n",
    "ax1.scatter(diff, fc_ci, c='red', marker='o', s=20, zorder=2)\n",
    "ax1.plot(diff, fc_di, c='green', lw=0.75, zorder=1)\n",
    "ax1.scatter(diff, fc_di, c='green', marker='D', s=10, zorder=2)\n",
    "\n",
    "ax1.set_xlabel('$I_1 - I_2$', fontsize=15)\n",
    "ax1.set_ylabel('Fraction correct', fontsize=15)\n",
    "ax1.set_title('\\\\textbf{Fraction of correct trials}', fontsize=20)\n",
    "ax1.set_xscale('log')\n",
    "\n",
    "ax2 = fig.add_subplot(132)\n",
    "ax2.plot(diff, rt_tr, c='blue', lw=0.75, zorder=1)\n",
    "ax2.scatter(diff, rt_tr, c='blue', marker='^', s=20, zorder=2)\n",
    "ax2.plot(diff, rt_sq, c='orange', lw=0.75, zorder=1)\n",
    "ax2.scatter(diff, rt_sq, c='orange', marker='s', s=20, zorder=2)\n",
    "ax2.plot(diff, rt_ci, c='red', lw=0.75, zorder=1)\n",
    "ax2.scatter(diff, rt_ci, c='red', marker='o', s=20, zorder=2)\n",
    "ax2.plot(diff, rt_di, c='green', lw=0.75, zorder=1)\n",
    "ax2.scatter(diff, rt_di, c='green', marker='D', s=10, zorder=2)\n",
    "\n",
    "ax2.set_xlabel('$I_1 - I_2$', fontsize=15)\n",
    "ax2.set_ylabel('Reaction time', fontsize=15)\n",
    "ax2.set_title('\\\\textbf{Reaction time of choice trials}', fontsize=20)\n",
    "ax2.set_xscale('log')\n",
    "ax2.set_yscale('log')\n",
    "\n",
    "ax3 = fig.add_subplot(133)\n",
    "ax3.plot(diff, und_tr, c='blue', lw=0.75, zorder=1)\n",
    "ax3.scatter(diff, und_tr, c='blue', marker='^', s=20, zorder=2)\n",
    "ax3.plot(diff, und_sq, c='orange', lw=0.75, zorder=1)\n",
    "ax3.scatter(diff, und_sq, c='orange', marker='s', s=20, zorder=2)\n",
    "ax3.plot(diff, und_ci, c='red', lw=0.75, zorder=1)\n",
    "ax3.scatter(diff, und_ci, c='red', marker='o', s=20, zorder=2)\n",
    "ax3.plot(diff, und_di, c='green', lw=0.75, zorder=1)\n",
    "ax3.scatter(diff, und_di, c='green', marker='D', s=10, zorder=2)\n",
    "\n",
    "ax3.set_xlabel('$I_1 - I_2$', fontsize=15)\n",
    "ax3.set_ylabel('Number of undecided trials', fontsize=15)\n",
    "ax3.set_title('\\\\textbf{Undecided trials}', fontsize=20)\n",
    "ax3.set_xscale('log')\n",
    "\n",
    "if save==True:\n",
    "    fig.tight_layout()\n",
    "    #plt.savefig('/Users/miguel/Desktop/dc/fc-rt_ntrials={ntrials}.pdf'.format(ntrials=dc_tr.params.get('ntrials')))\n",
    "plt.show()"
   ]
  },
  {
   "cell_type": "markdown",
   "metadata": {},
   "source": [
    "##### Fit to data from Roitman and Shadlen (2002) "
   ]
  },
  {
   "cell_type": "code",
   "execution_count": 18,
   "metadata": {},
   "outputs": [
    {
     "name": "stdout",
     "output_type": "stream",
     "text": [
      "270.13013887405396\n"
     ]
    }
   ],
   "source": [
    "start = time.time()\n",
    "\n",
    "# Stimulus input (Fig. 3)\n",
    "coh = np.logspace(0, 2, 15)\n",
    "diff = 2.168e-5 * coh\n",
    "i1, i2 = diff / 2, -diff / 2 \n",
    "\n",
    "fc_rl3, rt_rl3 = np.empty(0), np.empty(0)    # fraction correct and reaction time results to reproduce Figure 3 of Roxin and Ledberg 2008\n",
    "\n",
    "for i in range(diff.size):\n",
    "    dc_rl3 = DC()\n",
    "    dc_rl3.prep(tmax=2000.0, dt=1./40., dtauE=200.0, dtauI=200.0,\n",
    "            rec_exc=1.9, cross_inh=1.0, g=1.0, sigma_E=0.001634, sigma_I=0.001634, \n",
    "            I1=i1[i], I2=i2[i], Ii=0.2, I=0.3695,\n",
    "            ntrials=1000)\n",
    "    dc_rl3.run()\n",
    "    \n",
    "    fc_rl3 = np.concatenate([fc_rl3, np.array([fc(dc_rl3)])])\n",
    "    rt_rl3 = np.concatenate([rt_rl3, np.array([rt(dc_rl3, th=0.7)])])\n",
    "    if i+1 < diff.size: del dc_rl3\n",
    "    \n",
    "rt_rl3 += 230\n",
    "        \n",
    "end = time.time()\n",
    "print(end - start)"
   ]
  },
  {
   "cell_type": "code",
   "execution_count": 19,
   "metadata": {},
   "outputs": [
    {
     "data": {
      "image/png": "[encoded data removed]",
      "text/plain": [
       "<Figure size 1152x432 with 2 Axes>"
      ]
     },
     "metadata": {
      "needs_background": "light"
     },
     "output_type": "display_data"
    }
   ],
   "source": [
    "coh = np.logspace(0, 2, 15)\n",
    "\n",
    "fig = plt.figure(figsize=(16, 6))\n",
    "\n",
    "ax1 = fig.add_subplot(121)\n",
    "ax1.plot(coh, fc_rl3, c='blue', lw=0.75, zorder=1)\n",
    "ax1.scatter(coh, fc_rl3, c='blue', marker='o', s=15, zorder=2)\n",
    "ax1.scatter(np.array([3.2, 6.4, 12.8, 25.6, 51.2]), np.array([0.642, 0.776, 0.941, 1, 1]), c='red', marker='o', zorder=3)\n",
    "\n",
    "ax1.set_xlabel('Coherence', fontsize=15)\n",
    "ax1.set_ylabel('Fraction correct', fontsize=15)\n",
    "ax1.set_title('\\\\textbf{Fraction of correct trials}', fontsize=20)\n",
    "ax1.set_xscale('log')\n",
    "\n",
    "ax2 = fig.add_subplot(122)\n",
    "ax2.plot(coh, rt_rl3, c='blue', lw=0.75)\n",
    "ax2.scatter(coh, rt_rl3, c='blue', marker='o', s=20)\n",
    "ax2.scatter(np.array([3.2, 6.4, 12.8, 25.6, 51.2]), np.array([(795.0 + 818.3) / 2, (758.5 + 758.3) / 2, (671.8 + 678.1) / 2, (532.4 + 551.1) / 2, (409.3 + 436.9) / 2]), \n",
    "            c='red', marker='o', zorder=3)\n",
    "\n",
    "ax2.set_xlabel('Coherence', fontsize=15)\n",
    "ax2.set_ylabel('Reaction time', fontsize=15)\n",
    "ax2.set_title('\\\\textbf{Average reaction time of decision trials}', fontsize=20)\n",
    "ax2.set_xscale('log')\n",
    "ax2.set_yscale('log')\n",
    "\n",
    "if save==True:\n",
    "    fig.tight_layout()\n",
    "    plt.savefig('/Users/miguel/Desktop/dc/rl3_ntrials={ntrials}_2.pdf'.format(ntrials=dc_rl3.params.get('ntrials')))\n",
    "plt.show()"
   ]
  },
  {
   "cell_type": "markdown",
   "metadata": {},
   "source": [
    "#### Fit to data from Palmer, Huk and Shadlen (2005)"
   ]
  },
  {
   "cell_type": "markdown",
   "metadata": {},
   "source": [
    "###### Subject 1"
   ]
  },
  {
   "cell_type": "code",
   "execution_count": 24,
   "metadata": {},
   "outputs": [
    {
     "name": "stdout",
     "output_type": "stream",
     "text": [
      "310.06232595443726\n"
     ]
    }
   ],
   "source": [
    "start = time.time()\n",
    "\n",
    "coh = np.logspace(-1, 2, 18)\n",
    "diff = 4.066E-5 * coh\n",
    "i1, i2 = diff / 2, -diff / 2 \n",
    "\n",
    "fc_rl4_s1_1, rt_rl4_s1_1 = np.empty(0), np.empty(0)    # fraction correct and reaction time results to reproduce Figure 4 of Roxin and Ledberg 2008\n",
    "\n",
    "for i in range(diff.size):\n",
    "    dc_rl4_s1_1 = DC()\n",
    "    dc_rl4_s1_1.prep(tmax=2000.0, dt=1./40., dtauE=200.0, dtauI=200.0,\n",
    "            rec_exc=1.9, cross_inh=1.0, g=1.0, sigma_E=0.001634, sigma_I=0.001634, \n",
    "            I1=i1[i], I2=i2[i], Ii=0.2, I=0.3675,\n",
    "            ntrials=1000)\n",
    "    dc_rl4_s1_1.run()\n",
    "    \n",
    "    fc_rl4_s1_1 = np.concatenate([fc_rl4_s1_1, np.array([fc(dc_rl4_s1_1)])])\n",
    "    rt_rl4_s1_1 = np.concatenate([rt_rl4_s1_1, np.array([rt(dc_rl4_s1_1, th=0.7)])])\n",
    "    if i+1 < diff.size: del dc_rl4_s1_1\n",
    "    \n",
    "rt_rl4_s1_1 += 260\n",
    "        \n",
    "end = time.time()\n",
    "print(end - start)"
   ]
  },
  {
   "cell_type": "code",
   "execution_count": 21,
   "metadata": {},
   "outputs": [
    {
     "name": "stdout",
     "output_type": "stream",
     "text": [
      "310.3065061569214\n"
     ]
    }
   ],
   "source": [
    "start = time.time()\n",
    "\n",
    "coh = np.logspace(-1, 2, 18)\n",
    "diff = 4.066E-5 * coh\n",
    "i1, i2 = diff / 2, -diff / 2 \n",
    "\n",
    "fc_rl4_s1_2, rt_rl4_s1_2 = np.empty(0), np.empty(0)    # fraction correct and reaction time results to reproduce Figure 4 of Roxin and Ledberg 2008\n",
    "\n",
    "for i in range(diff.size):\n",
    "    dc_rl4_s1_2 = DC()\n",
    "    dc_rl4_s1_2.prep(tmax=2000.0, dt=1./40., dtauE=200.0, dtauI=200.0,\n",
    "            rec_exc=1.9, cross_inh=1.0, g=1.0, sigma_E=0.001634, sigma_I=0.001634, \n",
    "            I1=i1[i], I2=i2[i], Ii=0.2, I=0.3687,\n",
    "            ntrials=1000)\n",
    "    dc_rl4_s1_2.run()\n",
    "    \n",
    "    fc_rl4_s1_2 = np.concatenate([fc_rl4_s1_2, np.array([fc(dc_rl4_s1_2)])])\n",
    "    rt_rl4_s1_2 = np.concatenate([rt_rl4_s1_2, np.array([rt(dc_rl4_s1_2, th=0.7)])])\n",
    "    if i+1 < diff.size: del dc_rl4_s1_2\n",
    "    \n",
    "rt_rl4_s1_2 += 260\n",
    "        \n",
    "end = time.time()\n",
    "print(end - start)"
   ]
  },
  {
   "cell_type": "code",
   "execution_count": 25,
   "metadata": {},
   "outputs": [
    {
     "name": "stdout",
     "output_type": "stream",
     "text": [
      "255.65752696990967\n"
     ]
    }
   ],
   "source": [
    "start = time.time()\n",
    "\n",
    "coh = np.logspace(-1, 2, 18)\n",
    "diff = 4.066E-5 * coh\n",
    "i1, i2 = diff / 2, -diff / 2 \n",
    "\n",
    "fc_rl4_s1_3, rt_rl4_s1_3 = np.empty(0), np.empty(0)    # fraction correct and reaction time results to reproduce Figure 4 of Roxin and Ledberg 2008\n",
    "\n",
    "for i in range(diff.size):\n",
    "    dc_rl4_s1_3 = DC()\n",
    "    dc_rl4_s1_3.prep(tmax=2000.0, dt=1./40., dtauE=200.0, dtauI=200.0,\n",
    "            rec_exc=1.9, cross_inh=1.0, g=1.0, sigma_E=0.001634, sigma_I=0.001634, \n",
    "            I1=i1[i], I2=i2[i], Ii=0.2, I=0.3742,\n",
    "            ntrials=1000)\n",
    "    dc_rl4_s1_3.run()\n",
    "    \n",
    "    fc_rl4_s1_3 = np.concatenate([fc_rl4_s1_3, np.array([fc(dc_rl4_s1_3)])])\n",
    "    rt_rl4_s1_3 = np.concatenate([rt_rl4_s1_3, np.array([rt(dc_rl4_s1_3, th=0.7)])])\n",
    "    if i+1 < diff.size: del dc_rl4_s1_3\n",
    "    \n",
    "rt_rl4_s1_3 += 260\n",
    "        \n",
    "end = time.time()\n",
    "print(end - start)"
   ]
  },
  {
   "cell_type": "markdown",
   "metadata": {},
   "source": [
    "###### Subject 2"
   ]
  },
  {
   "cell_type": "code",
   "execution_count": 26,
   "metadata": {},
   "outputs": [
    {
     "name": "stdout",
     "output_type": "stream",
     "text": [
      "259.4596610069275\n"
     ]
    }
   ],
   "source": [
    "start = time.time()\n",
    "\n",
    "coh = np.logspace(-1, 2, 18)\n",
    "diff = 4.228E-5 * coh\n",
    "i1, i2 = diff / 2, -diff / 2 \n",
    "\n",
    "fc_rl4_s2_1, rt_rl4_s2_1 = np.empty(0), np.empty(0)    # fraction correct and reaction time results to reproduce Figure 4 of Roxin and Ledberg 2008\n",
    "\n",
    "for i in range(diff.size):\n",
    "    dc_rl4_s2_1 = DC()\n",
    "    dc_rl4_s2_1.prep(tmax=2000.0, dt=1./40., dtauE=200.0, dtauI=200.0,\n",
    "            rec_exc=1.9, cross_inh=1.0, g=1.0, sigma_E=0.001634, sigma_I=0.001634, \n",
    "            I1=i1[i], I2=i2[i], Ii=0.2, I=0.3673,\n",
    "            ntrials=1000)\n",
    "    dc_rl4_s2_1.run()\n",
    "    \n",
    "    fc_rl4_s2_1 = np.concatenate([fc_rl4_s2_1, np.array([fc(dc_rl4_s2_1)])])\n",
    "    rt_rl4_s2_1 = np.concatenate([rt_rl4_s2_1, np.array([rt(dc_rl4_s2_1, th=0.7)])])\n",
    "    if i+1 < diff.size: del dc_rl4_s2_1\n",
    "    \n",
    "rt_rl4_s2_1 += 220\n",
    "        \n",
    "end = time.time()\n",
    "print(end - start)"
   ]
  },
  {
   "cell_type": "code",
   "execution_count": 27,
   "metadata": {},
   "outputs": [
    {
     "name": "stdout",
     "output_type": "stream",
     "text": [
      "255.74171805381775\n"
     ]
    }
   ],
   "source": [
    "start = time.time()\n",
    "\n",
    "coh = np.logspace(-1, 2, 18)\n",
    "diff = 4.228E-5 * coh\n",
    "i1, i2 = diff / 2, -diff / 2 \n",
    "\n",
    "fc_rl4_s2_2, rt_rl4_s2_2 = np.empty(0), np.empty(0)    # fraction correct and reaction time results to reproduce Figure 4 of Roxin and Ledberg 2008\n",
    "\n",
    "for i in range(diff.size):\n",
    "    dc_rl4_s2_2 = DC()\n",
    "    dc_rl4_s2_2.prep(tmax=2000.0, dt=1./40., dtauE=200.0, dtauI=200.0,\n",
    "            rec_exc=1.9, cross_inh=1.0, g=1.0, sigma_E=0.001634, sigma_I=0.001634, \n",
    "            I1=i1[i], I2=i2[i], Ii=0.2, I=0.3684,\n",
    "            ntrials=1000)\n",
    "    dc_rl4_s2_2.run()\n",
    "    \n",
    "    fc_rl4_s2_2 = np.concatenate([fc_rl4_s2_2, np.array([fc(dc_rl4_s2_2)])])\n",
    "    rt_rl4_s2_2 = np.concatenate([rt_rl4_s2_2, np.array([rt(dc_rl4_s2_2, th=0.7)])])\n",
    "    if i+1 < diff.size: del dc_rl4_s2_2\n",
    "    \n",
    "rt_rl4_s2_2 += 220\n",
    "        \n",
    "end = time.time()\n",
    "print(end - start)"
   ]
  },
  {
   "cell_type": "code",
   "execution_count": 28,
   "metadata": {},
   "outputs": [
    {
     "name": "stdout",
     "output_type": "stream",
     "text": [
      "249.4001441001892\n"
     ]
    }
   ],
   "source": [
    "start = time.time()\n",
    "\n",
    "coh = np.logspace(-1, 2, 18)\n",
    "diff = 4.228E-5 * coh\n",
    "i1, i2 = diff / 2, -diff / 2 \n",
    "\n",
    "fc_rl4_s2_3, rt_rl4_s2_3 = np.empty(0), np.empty(0)    # fraction correct and reaction time results to reproduce Figure 4 of Roxin and Ledberg 2008\n",
    "\n",
    "for i in range(diff.size):\n",
    "    dc_rl4_s2_3 = DC()\n",
    "    dc_rl4_s2_3.prep(tmax=2000.0, dt=1./40., dtauE=200.0, dtauI=200.0,\n",
    "            rec_exc=1.9, cross_inh=1.0, g=1.0, sigma_E=0.001634, sigma_I=0.001634, \n",
    "            I1=i1[i], I2=i2[i], Ii=0.2, I=0.3721,\n",
    "            ntrials=1000)\n",
    "    dc_rl4_s2_3.run()\n",
    "    \n",
    "    fc_rl4_s2_3 = np.concatenate([fc_rl4_s2_3, np.array([fc(dc_rl4_s2_3)])])\n",
    "    rt_rl4_s2_3 = np.concatenate([rt_rl4_s2_3, np.array([rt(dc_rl4_s2_3, th=0.7)])])\n",
    "    if i+1 < diff.size: del dc_rl4_s2_3\n",
    "    \n",
    "rt_rl4_s2_3 += 220\n",
    "        \n",
    "end = time.time()\n",
    "print(end - start)"
   ]
  },
  {
   "cell_type": "code",
   "execution_count": 29,
   "metadata": {},
   "outputs": [
    {
     "ename": "NameError",
     "evalue": "name 'fc_rl4_s1_2' is not defined",
     "output_type": "error",
     "traceback": [
      "\u001b[0;31m---------------------------------------------------------------------------\u001b[0m",
      "\u001b[0;31mNameError\u001b[0m                                 Traceback (most recent call last)",
      "\u001b[0;32m<ipython-input-29-db234a46423a>\u001b[0m in \u001b[0;36m<module>\u001b[0;34m\u001b[0m\n\u001b[1;32m      6\u001b[0m \u001b[0max1\u001b[0m\u001b[0;34m.\u001b[0m\u001b[0mplot\u001b[0m\u001b[0;34m(\u001b[0m\u001b[0mcoh\u001b[0m\u001b[0;34m,\u001b[0m \u001b[0mfc_rl4_s1_1\u001b[0m\u001b[0;34m,\u001b[0m \u001b[0mc\u001b[0m\u001b[0;34m=\u001b[0m\u001b[0;34m'black'\u001b[0m\u001b[0;34m,\u001b[0m \u001b[0mlw\u001b[0m\u001b[0;34m=\u001b[0m\u001b[0;36m0.75\u001b[0m\u001b[0;34m,\u001b[0m \u001b[0mzorder\u001b[0m\u001b[0;34m=\u001b[0m\u001b[0;36m1\u001b[0m\u001b[0;34m)\u001b[0m\u001b[0;34m\u001b[0m\u001b[0;34m\u001b[0m\u001b[0m\n\u001b[1;32m      7\u001b[0m \u001b[0max1\u001b[0m\u001b[0;34m.\u001b[0m\u001b[0mscatter\u001b[0m\u001b[0;34m(\u001b[0m\u001b[0mcoh\u001b[0m\u001b[0;34m,\u001b[0m \u001b[0mfc_rl4_s1_1\u001b[0m\u001b[0;34m,\u001b[0m \u001b[0mc\u001b[0m\u001b[0;34m=\u001b[0m\u001b[0;34m'black'\u001b[0m\u001b[0;34m,\u001b[0m \u001b[0mmarker\u001b[0m\u001b[0;34m=\u001b[0m\u001b[0;34m'o'\u001b[0m\u001b[0;34m,\u001b[0m \u001b[0ms\u001b[0m\u001b[0;34m=\u001b[0m\u001b[0;36m15\u001b[0m\u001b[0;34m,\u001b[0m \u001b[0mzorder\u001b[0m\u001b[0;34m=\u001b[0m\u001b[0;36m2\u001b[0m\u001b[0;34m)\u001b[0m\u001b[0;34m\u001b[0m\u001b[0;34m\u001b[0m\u001b[0m\n\u001b[0;32m----> 8\u001b[0;31m \u001b[0max1\u001b[0m\u001b[0;34m.\u001b[0m\u001b[0mplot\u001b[0m\u001b[0;34m(\u001b[0m\u001b[0mcoh\u001b[0m\u001b[0;34m,\u001b[0m \u001b[0mfc_rl4_s1_2\u001b[0m\u001b[0;34m,\u001b[0m \u001b[0mc\u001b[0m\u001b[0;34m=\u001b[0m\u001b[0;34m'red'\u001b[0m\u001b[0;34m,\u001b[0m \u001b[0mlw\u001b[0m\u001b[0;34m=\u001b[0m\u001b[0;36m0.75\u001b[0m\u001b[0;34m,\u001b[0m \u001b[0mzorder\u001b[0m\u001b[0;34m=\u001b[0m\u001b[0;36m1\u001b[0m\u001b[0;34m)\u001b[0m\u001b[0;34m\u001b[0m\u001b[0;34m\u001b[0m\u001b[0m\n\u001b[0m\u001b[1;32m      9\u001b[0m \u001b[0max1\u001b[0m\u001b[0;34m.\u001b[0m\u001b[0mscatter\u001b[0m\u001b[0;34m(\u001b[0m\u001b[0mcoh\u001b[0m\u001b[0;34m,\u001b[0m \u001b[0mfc_rl4_s1_2\u001b[0m\u001b[0;34m,\u001b[0m \u001b[0mc\u001b[0m\u001b[0;34m=\u001b[0m\u001b[0;34m'red'\u001b[0m\u001b[0;34m,\u001b[0m \u001b[0mmarker\u001b[0m\u001b[0;34m=\u001b[0m\u001b[0;34m'o'\u001b[0m\u001b[0;34m,\u001b[0m \u001b[0ms\u001b[0m\u001b[0;34m=\u001b[0m\u001b[0;36m15\u001b[0m\u001b[0;34m,\u001b[0m \u001b[0mzorder\u001b[0m\u001b[0;34m=\u001b[0m\u001b[0;36m2\u001b[0m\u001b[0;34m)\u001b[0m\u001b[0;34m\u001b[0m\u001b[0;34m\u001b[0m\u001b[0m\n\u001b[1;32m     10\u001b[0m \u001b[0max1\u001b[0m\u001b[0;34m.\u001b[0m\u001b[0mplot\u001b[0m\u001b[0;34m(\u001b[0m\u001b[0mcoh\u001b[0m\u001b[0;34m,\u001b[0m \u001b[0mfc_rl4_s1_3\u001b[0m\u001b[0;34m,\u001b[0m \u001b[0mc\u001b[0m\u001b[0;34m=\u001b[0m\u001b[0;34m'blue'\u001b[0m\u001b[0;34m,\u001b[0m \u001b[0mlw\u001b[0m\u001b[0;34m=\u001b[0m\u001b[0;36m0.75\u001b[0m\u001b[0;34m,\u001b[0m \u001b[0mzorder\u001b[0m\u001b[0;34m=\u001b[0m\u001b[0;36m1\u001b[0m\u001b[0;34m)\u001b[0m\u001b[0;34m\u001b[0m\u001b[0;34m\u001b[0m\u001b[0m\n",
      "\u001b[0;31mNameError\u001b[0m: name 'fc_rl4_s1_2' is not defined"
     ]
    },
    {
     "data": {
      "image/png": "[encoded data removed]",
      "text/plain": [
       "<Figure size 1152x864 with 1 Axes>"
      ]
     },
     "metadata": {
      "needs_background": "light"
     },
     "output_type": "display_data"
    }
   ],
   "source": [
    "coh = np.logspace(-1, 2, 18)\n",
    "\n",
    "fig = plt.figure(figsize=(16, 12))\n",
    "\n",
    "ax1 = fig.add_subplot(221)\n",
    "ax1.plot(coh, fc_rl4_s1_1, c='black', lw=0.75, zorder=1)\n",
    "ax1.scatter(coh, fc_rl4_s1_1, c='black', marker='o', s=15, zorder=2)\n",
    "ax1.plot(coh, fc_rl4_s1_2, c='red', lw=0.75, zorder=1)\n",
    "ax1.scatter(coh, fc_rl4_s1_2, c='red', marker='o', s=15, zorder=2)\n",
    "ax1.plot(coh, fc_rl4_s1_3, c='blue', lw=0.75, zorder=1)\n",
    "ax1.scatter(coh, fc_rl4_s1_3, c='blue', marker='o', s=15, zorder=2)\n",
    "\n",
    "ax1.set_xlabel('Coherence', fontsize=15)\n",
    "ax1.set_ylabel('Fraction correct', fontsize=15)\n",
    "ax1.set_title('\\\\textbf{Fraction of correct trials for subject $1$}', fontsize=20)\n",
    "ax1.set_xscale('log')\n",
    "\n",
    "ax2 = fig.add_subplot(222)\n",
    "ax2.plot(coh, fc_rl4_s2_1, c='black', lw=0.75, zorder=1)\n",
    "ax2.scatter(coh, fc_rl4_s2_1, c='black', marker='o', s=15, zorder=2)\n",
    "ax2.plot(coh, fc_rl4_s2_2, c='red', lw=0.75, zorder=1)\n",
    "ax2.scatter(coh, fc_rl4_s2_2, c='red', marker='o', s=15, zorder=2)\n",
    "ax2.plot(coh, fc_rl4_s2_3, c='blue', lw=0.75, zorder=1)\n",
    "ax2.scatter(coh, fc_rl4_s2_3, c='blue', marker='o', s=15, zorder=2)\n",
    "\n",
    "ax2.set_xlabel('Coherence', fontsize=15)\n",
    "ax2.set_ylabel('Fraction correct', fontsize=15)\n",
    "ax2.set_title('\\\\textbf{Fraction of correct trials for subject $2$}', fontsize=20)\n",
    "ax2.set_xscale('log')\n",
    "\n",
    "ax3 = fig.add_subplot(223)\n",
    "ax3.plot(coh, rt_rl4_s1_1, c='black', lw=0.75)\n",
    "ax3.scatter(coh, rt_rl4_s1_1, c='black', marker='o', s=20)\n",
    "ax3.plot(coh, rt_rl4_s1_2, c='red', lw=0.75)\n",
    "ax3.scatter(coh, rt_rl4_s1_2, c='red', marker='o', s=20)\n",
    "ax3.plot(coh, rt_rl4_s1_3, c='blue', lw=0.75)\n",
    "ax3.scatter(coh, rt_rl4_s1_3, c='blue', marker='o', s=20)\n",
    "\n",
    "ax3.set_xlabel('Coherence', fontsize=15)\n",
    "ax3.set_ylabel('Reaction time', fontsize=15)\n",
    "ax3.set_title('\\\\textbf{Average reaction time of decision trials for subject $1$}', fontsize=20)\n",
    "ax3.set_xscale('log')\n",
    "ax3.set_yscale('log')\n",
    "\n",
    "ax4 = fig.add_subplot(224)\n",
    "ax4.plot(coh, rt_rl4_s2_1, c='black', lw=0.75)\n",
    "ax4.scatter(coh, rt_rl4_s2_1, c='black', marker='o', s=20)\n",
    "ax4.plot(coh, rt_rl4_s2_2, c='red', lw=0.75)\n",
    "ax4.scatter(coh, rt_rl4_s2_2, c='red', marker='o', s=20)\n",
    "ax4.plot(coh, rt_rl4_s2_3, c='blue', lw=0.75)\n",
    "ax4.scatter(coh, rt_rl4_s2_3, c='blue', marker='o', s=20)\n",
    "\n",
    "ax4.set_xlabel('Coherence', fontsize=15)\n",
    "ax4.set_ylabel('Reaction time', fontsize=15)\n",
    "ax4.set_title('\\\\textbf{Average reaction time of decision trials for subject $2$}', fontsize=20)\n",
    "ax4.set_xscale('log')\n",
    "ax4.set_yscale('log')\n",
    "\n",
    "if save==True:\n",
    "    fig.tight_layout()\n",
    "    plt.savefig('/Users/miguel/Desktop/dc/rl4_ntrials={ntrials}.pdf'.format(ntrials=dc_rl4_s1_1.params.get('ntrials')))\n",
    "plt.show()"
   ]
  },
  {
   "cell_type": "code",
   "execution_count": null,
   "metadata": {},
   "outputs": [],
   "source": []
  }
 ],
 "metadata": {
  "kernelspec": {
   "display_name": "Python 3",
   "language": "python",
   "name": "python3"
  },
  "language_info": {
   "codemirror_mode": {
    "name": "ipython",
    "version": 3
   },
   "file_extension": ".py",
   "mimetype": "text/x-python",
   "name": "python",
   "nbconvert_exporter": "python",
   "pygments_lexer": "ipython3",
   "version": "3.8.8"
  }
 },
 "nbformat": 4,
 "nbformat_minor": 4
}
